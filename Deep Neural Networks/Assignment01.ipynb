{
 "cells": [
  {
   "cell_type": "markdown",
   "metadata": {},
   "source": [
    "# <span style=\"color:#0b486b\">Assignment 01: Machine Learning, Deep Neural Networks and CNNs</span>"
   ]
  },
  {
   "cell_type": "markdown",
   "metadata": {},
   "source": [
    "## <span style=\"color:#0b486b\">Instruction</span>\n",
    "\n",
    "This notebook has been prepared for your to complete Assignment 1. The theme of this assignment is about practical machine learning knowledge and skills in deep neural networks, including feedforward and convolutional neural networks."
   ]
  },
  {
   "cell_type": "markdown",
   "metadata": {},
   "source": [
    "## <span style=\"color:#0b486b\">Part 1: Theory and Knowledge Questions</span>"
   ]
  },
  {
   "cell_type": "markdown",
   "metadata": {},
   "source": [
    "The first part of this assignment is for you to demonstrate your knowledge in deep learning that you have acquired from the lectures and tutorials materials. Most of the contents in this assignment are drawn from the tutorials covered from weeks 1 to 3. Going through these materials before attempting this part is highly recommended."
   ]
  },
  {
   "cell_type": "markdown",
   "metadata": {},
   "source": [
    "####  <span style=\"color:red\">**Question 1.1.**</span> **Activation function plays an important role in modern Deep NNs. For each of the activation function below, state its output range and find its derivative (show your steps)**\n",
    "\n",
    "<span style=\"color:red\">**(a)**</span> Sigmoid: $\\sigma(x) = \\frac{1}{1+\\text{exp}{(-x)}}$ \n",
    "\n",
    "<span style=\"color:red\">**(b)**</span> Tanh: $\\sigma(x) = \\frac{\\exp(x) - \\exp{(-x)}}{\\exp(x) + \\exp{(-x)}}= \\frac{1-\\exp(-2x)}{1+\\exp(-2x)}$"
   ]
  },
  {
   "cell_type": "markdown",
   "metadata": {},
   "source": [
    "**Answer**\n",
    "\n",
    "<span style=\"color:red\">**(a)**</span> The output range of the function is 0 to 1.\n",
    "\n",
    "Derivative : $\\frac{d}{dx} \\frac{1}{1+\\text{exp}{(-x)}}$ = $\\frac{(1+exp(-x)) \\times 0 - 1 \\times \\frac{d}{dx} (1 + exp(-x))}{(1+exp(-x))^2}$ = $\\frac{-1 \\times -1 \\times exp(-x)}{(1+exp(-x))^2}$ = $\\frac{exp(-x)}{(1+exp(-x))^2}$\n",
    "\n",
    "<span style=\"color:red\">**(b)**</span> The output range of the function is -1 to 1.\n",
    "\n",
    "Derivative : $\\frac{d}{dx} \\frac{1-\\text{exp}{(-2x)}}{1+\\text{exp}{(-2x)}}$ = $\\frac{(1+exp(-2x)) \\times \\frac{d}{dx} (1-exp(-2x)) - (1-exp(-2x)) \\times \\frac{d}{dx} (1+exp(-2x))}{(1+exp(-2x))^2}$ = $\\frac{(2 \\times exp(-2x) \\times (1+exp(-2x)) )+ (2 \\times exp(-2x) \\times (1-exp(-2x)))}{(1+exp(-2x))^2}$ = $\\frac{4 \\times exp(-2x)}{(1+exp(-2x))^2}$"
   ]
  },
  {
   "cell_type": "markdown",
   "metadata": {},
   "source": [
    "<span style=\"color:#0b486b\"> **Numpy is going to be used in the following questions. You need to import numpy here.** </span>"
   ]
  },
  {
   "cell_type": "code",
   "execution_count": 1,
   "metadata": {},
   "outputs": [],
   "source": [
    "import numpy as np"
   ]
  },
  {
   "cell_type": "markdown",
   "metadata": {},
   "source": [
    "####  <span style=\"color:red\">**Question 1.2.**</span> **Softmax activation aims to transform discriminative values to prediction probabilities. Assume that at the output layer, we obtain the logit $h^{L}$ as shown in the following cell. What is the corresonding prediction probabilities $p$? You are required to answer the formula for $p$ and write the code for computing $p$ in the following cells.**"
   ]
  },
  {
   "cell_type": "markdown",
   "metadata": {},
   "source": [
    "<span style=\"color:red\">**Provide the formula for $p$ here**</span>\n",
    "\n",
    "p = $[\\frac{exp(h_m)}{\\sum_{i=1}^m exp(h_i)}]_{m=1}^M$\n"
   ]
  },
  {
   "cell_type": "markdown",
   "metadata": {},
   "source": [
    "The following cell contains the code to generate the logit $h^L$ using your *student ID* as the seed of numpy."
   ]
  },
  {
   "cell_type": "code",
   "execution_count": 2,
   "metadata": {},
   "outputs": [
    {
     "name": "stdout",
     "output_type": "stream",
     "text": [
      "[0.2242850637082374, 0.5193956135993939, 0.2563193226923688]\n"
     ]
    }
   ],
   "source": [
    "np.random.seed(123456)\n",
    "hL = np.random.rand(3,1) \n",
    "#Insert your code to compute the prediction probability here\n",
    "\n",
    "# Transforms the values in hL to exponential forms and stores it in exp_hL\n",
    "exp_hL = np.exp(hL)\n",
    "# Declaring a list to store the exponential values\n",
    "val_list = list()\n",
    "for vals in exp_hL:\n",
    "    for elements in vals:\n",
    "        val_list.append(elements)\n",
    "# Declaring an empty list to store the final values\n",
    "final_p = list()\n",
    "den = 0\n",
    "for vals in val_list:\n",
    "    den += vals\n",
    "for vals in val_list:\n",
    "    final_p.append(vals/den)\n",
    "\n",
    "# Displaying the final results\n",
    "print(final_p)"
   ]
  },
  {
   "cell_type": "markdown",
   "metadata": {},
   "source": [
    "####  <span style=\"color:red\">**Question 1.3.**</span> **Linear operation and element-wise activation are two building-blocks for conducting a layer in a feedforward neural network.**\n",
    "\n",
    "<span style=\"color:red\">**(a)**</span> **Assume that hidden layer $1$ has value $h^1(x) \\in \\mathbb{R}^{2 \\times 1}$ whose value will be generated randomly and the weight matrix and bias at the second layer are:**\n",
    "- **$W^{2} \\in \\mathbb{R}^{3 \\times 2}$ and $b^2 \\in \\mathbb{R}^{3 \\times 1}$ whose values are generated randomly too.\n",
    "What is the value of the hidden layer $\\bar{h}^{2}(x)$ after applying *the linear operation* with the matrix $W^2$ and the bias $b^2$ over $h^1$. Provide the formula and the code in the following cells.**\n",
    "\n",
    "\n",
    "\n",
    "<span style=\"color:red\">**(b)**</span> **Assume that we apply *the ReLU activation function* at the second layer. What is the value of the hidden layer $h^2(x)$ after we apply the activation function? Provide the formula and the code in the following cells.** \n",
    " \n"
   ]
  },
  {
   "cell_type": "markdown",
   "metadata": {},
   "source": [
    "<span style=\"color:red\">**(a) Provide the formula for $\\bar{h}^{2}(x)$ here**</span>\n",
    "\n",
    "- $\\bar{h}^{2}(x) = h^1(x) \\times W^2 + b^2$"
   ]
  },
  {
   "cell_type": "code",
   "execution_count": 3,
   "metadata": {},
   "outputs": [],
   "source": [
    "np.random.seed(30535816)  #replace 123456 with your student ID\n",
    "W2 = np.random.rand(3,2)\n",
    "b2 = np.random.rand(3,1)\n",
    "#Insert your code to compute h1 and h{bar}2 here\n",
    "h1 = np.random.rand(2,1)\n",
    "h_bar_2 = np.add(W2.dot(h1), b2)"
   ]
  },
  {
   "cell_type": "markdown",
   "metadata": {},
   "source": [
    "<span style=\"color:red\">**(b) Provide the formula for ${h}^{2}(x)$ here**</span>\n",
    "\n",
    "- ${h}^{2}(x) = Sigmoid(\\bar{h}^{2}(x)) = \\frac{1}{1+exp(-\\bar{h}^{2}(x))}$"
   ]
  },
  {
   "cell_type": "code",
   "execution_count": 4,
   "metadata": {},
   "outputs": [],
   "source": [
    "#Insert your code to compute h2 here\n",
    "h2 = 1/(1+np.exp(-h_bar_2))\n",
    "#Note that we use ReLU activation function\n",
    "# Defining a function to perform the operation of relu activation function\n",
    "def relu(x):\n",
    "    return np.maximum(0,x)\n",
    "# Passing h2(x) through the activation function\n",
    "h2 = relu(h2)"
   ]
  },
  {
   "cell_type": "markdown",
   "metadata": {},
   "source": [
    "####  <span style=\"color:red\">**Question 1.4.**</span> **Given the DNN architecture below for regression task. This DNN has three layers, assuming all bias terms are zero. The input layer has dimension $M$, the output layer has dimension $K$, the hidden layer has two nodes and uses *sigmoid* activation function. Assume the weight goes from $x_m$ to $h_i$ is $w^h_{im}$, and the weight goes from $h_i$ to $y_k$ is $w^o_{ki}$. Given a single training input $(x,y)$ where $y=(y_1, \\ldots,y_K)$ is a vector of $K$ dimension. Answer the following questions in regarding to back propagation procedure for this network:**\n",
    "\n",
    "<img src='Figures/dnn_reg1.png' width=230>"
   ]
  },
  {
   "cell_type": "markdown",
   "metadata": {},
   "source": [
    "<span style=\"color:red\">**(a)**</span> **What are the expressions to compute forward propagation for $h_1$, $h_2$ and $\\hat{y}_k$?**"
   ]
  },
  {
   "cell_type": "markdown",
   "metadata": {},
   "source": [
    "$\\bar{h_1} = x_1 W_{11}^h + x_2 W_{12}^h + .... + x_m W_{1m}^h$\n",
    "\n",
    "$ h_1 = Sigmoid(\\bar{h_1}) = \\frac{1}{1+exp(-\\bar{h_1})}$\n",
    "\n",
    "$\\bar{h_2} = x_1 W_{21}^h + x_2 W_{22}^h + .... + x_m W_{2m}^h$\n",
    "\n",
    "$ h_2 = Sigmoid(\\bar{h_2}) = \\frac{1}{1+exp(-\\bar{h_2})}$\n",
    "\n",
    "$\\hat{y_k} = h_1 W_{k1}^o + h_2 W_{k2}^o$"
   ]
  },
  {
   "cell_type": "markdown",
   "metadata": {},
   "source": [
    "<span style=\"color:red\">**(b)**</span> **What are the stochastic gradient descent (SGD) update equation for $w^o_{11}$ and $w^o_{k1}$ in general for $k=1,\\ldots,K$ (show your derivation) in case the mini-batch includes only $x= [x_1,...,x_M]$?**"
   ]
  },
  {
   "cell_type": "markdown",
   "metadata": {},
   "source": [
    "#### Update equation for $𝑤_{11}^o$\n",
    "\n",
    "$\\hat y_1 = 𝑤_{11}^o h_1 + 𝑤_{12}^o h_2$\n",
    "\n",
    "$J(𝑤) = \\frac{1}{2} (\\hat y_1-y_1)^2$\n",
    "\n",
    "$\\frac{\\partial J}{\\partial 𝑤_{11}^o} = \\frac{\\partial J}{\\partial \\hat y_1} \\times \\frac{\\partial \\hat y_1}{\\partial 𝑤_{11}^o} = (𝑤_{11}^o h_1 + 𝑤_{12}^o h_2 - y_1) \\times h_1$\n",
    "\n",
    "$𝑤_{11}^o = 𝑤_{11}^o - \\eta \\times h_1 \\times (𝑤_{11}^o h_1 + 𝑤_{12}^o h_2 - y_1)$\n",
    "\n",
    "\n",
    "\n",
    "#### Update equation for $𝑤_{k1}^o$\n",
    "\n",
    "$\\hat y_k = 𝑤_{k1}^o h_1 + 𝑤_{k2}^o h_2$\n",
    "\n",
    "$J(𝑤) = \\frac{1}{2} (\\hat y_k-y_k)^2$\n",
    "\n",
    "$\\frac{\\partial J}{\\partial 𝑤_{k1}^o} = \\frac{\\partial J}{\\partial \\hat y_k} \\times \\frac{\\partial \\hat y_k}{\\partial 𝑤_{k1}^o} = (𝑤_{k1}^o h_1 + 𝑤_{k2}^o h_2 - y_k) \\times h_1$\n",
    "\n",
    "$𝑤_{11}^o = 𝑤_{11}^o - \\eta \\times h_1 \\times (𝑤_{k1}^o h_1 + 𝑤_{k2}^o h_2 - y_k)$"
   ]
  },
  {
   "cell_type": "markdown",
   "metadata": {},
   "source": [
    "<span style=\"color:red\">**(c)**</span> **What are the stochastic gradient descent (SGD) update equation for $w^h_{11}$ and $w^h_{1m}$ in general for $m=1, \\ldots, M$ (show your derivation) in case the mini-batch includes only $x= [x_1,...,x_M]$?** "
   ]
  },
  {
   "cell_type": "markdown",
   "metadata": {},
   "source": [
    "#### Update equation for $𝑤_{11}^h$\n",
    "\n",
    "$\\hat y_k = 𝑤_{k1}^o h_1 + 𝑤_{k2}^o h_2$\n",
    "\n",
    "$J(𝑤) = \\frac{1}{2} (\\hat y_k-y_k)^2$\n",
    "\n",
    "$\\frac{\\partial J}{\\partial 𝑤_{11}^h} = \\frac{\\partial J}{\\partial \\bar h_1} \\times \\frac{\\partial \\bar h_1}{\\partial 𝑤_{11}^h} = x_1 \\times \\frac{\\partial J}{\\partial \\bar h_1} = x_1 \\times \\frac{\\partial J}{\\partial h_1} \\times \\frac{\\partial h_1}{\\partial \\bar h_1} = x_1 \\times h_1 \\times (1-h_1) \\times \\frac{\\partial J}{\\partial h_1} $\n",
    "\n",
    "$= x_1 \\times h_1 \\times (1-h_1) \\times \\frac{\\partial J}{\\partial \\hat y_k} \\times \\frac{\\partial \\hat y_k}{\\partial h_1} = x_1 \\times h_1 \\times (1-h_1) \\times (\\hat y_k - y_k) \\times 𝑤_{k1}^o$\n",
    "\n",
    "$𝑤_{11}^h = 𝑤_{11}^h - \\eta \\times x_1 \\times h_1 \\times (1-h_1) \\times (\\hat y_k - y_k) \\times 𝑤_{k1}^o$\n",
    "\n",
    "\n",
    "\n",
    "#### Update equation for $𝑤_{1m}^h$\n",
    "\n",
    "$\\hat y_k = 𝑤_{k1}^o h_1 + 𝑤_{k2}^o h_2$\n",
    "\n",
    "$J(𝑤) = \\frac{1}{2} (\\hat y_k-y_k)^2$\n",
    "\n",
    "$\\frac{\\partial J}{\\partial 𝑤_{1m}^h} = \\frac{\\partial J}{\\partial \\bar h_1} \\times \\frac{\\partial \\bar h_1}{\\partial 𝑤_{1m}^h} = x_m \\times \\frac{\\partial J}{\\partial \\bar h_1} = x_m \\times \\frac{\\partial J}{\\partial h_1} \\times \\frac{\\partial h_1}{\\partial \\bar h_1} = x_m \\times h_1 \\times (1-h_1) \\times \\frac{\\partial J}{\\partial h_1} $\n",
    "\n",
    "$= x_m \\times h_1 \\times (1-h_1) \\times \\frac{\\partial J}{\\partial \\hat y_k} \\times \\frac{\\partial \\hat y_k}{\\partial h_1} = x_m \\times h_1 \\times (1-h_1) \\times (\\hat y_k - y_k) \\times 𝑤_{k1}^o$\n",
    "\n",
    "$𝑤_{1m}^h = 𝑤_{1m}^h - \\eta \\times x_m \\times h_1 \\times (1-h_1) \\times (\\hat y_k - y_k) \\times 𝑤_{k1}^o$\n"
   ]
  },
  {
   "cell_type": "markdown",
   "metadata": {},
   "source": [
    "<span style=\"color:red\">**(d)**</span> **What are the stochastic gradient descent (SGD) update equation for $w^h_{im}$ in general for $i=1,2$ and $m=1, \\ldots, M$ (show your derivation) in case the mini-batch includes only $x= [x_1,...,x_M]$?**"
   ]
  },
  {
   "cell_type": "markdown",
   "metadata": {},
   "source": [
    "#### Update equation for $𝑤_{im}^h$\n",
    "\n",
    "$\\hat y_k = 𝑤_{k1}^o h_1 + 𝑤_{k2}^o h_2$\n",
    "\n",
    "$J(𝑤) = \\frac{1}{2} (\\hat y_k-y_k)^2$\n",
    "\n",
    "$\\frac{\\partial J}{\\partial 𝑤_{im}^h} = \\frac{\\partial J}{\\partial \\bar h_i} \\times \\frac{\\partial \\bar h_i}{\\partial 𝑤_{im}^h} = x_m \\times \\frac{\\partial J}{\\partial \\bar h_i} = x_m \\times h_i \\times (1-h_i) \\times \\frac{\\partial J}{\\partial h_i} $\n",
    "\n",
    "$= x_m \\times h_i \\times (1-h_i) \\times \\frac{\\partial J}{\\partial \\hat y_k} \\times \\frac{\\partial \\hat y_k}{\\partial h_i} = x_m \\times h_i \\times (1-h_i) \\times (\\hat y_k - y_k) \\times 𝑤_{ki}^o$\n",
    "\n",
    "$𝑤_{im}^h = 𝑤_{im}^h - \\eta \\times x_m \\times h_i \\times (1-h_i) \\times (\\hat y_k - y_k) \\times 𝑤_{ki}^o$\n"
   ]
  },
  {
   "cell_type": "markdown",
   "metadata": {},
   "source": [
    "## <span style=\"color:#0b486b\">Part 2: Deep Neural Networks (DNN) </span>"
   ]
  },
  {
   "cell_type": "markdown",
   "metadata": {},
   "source": [
    "**The second part of this assignment is for you to demonstrate your basis knowledge in TF 1.x and feedforward neural networks that you have acquired from the lectures and tutorials materials.**\n",
    "\n",
    "**In the second part of this assignment, you are going to work with the `FashionMNIST` dataset for `image recognition task`. It has the exact same format as MNIST (70,000 grayscale images of 28 × 28 pixels each, with 10 classes), but the images represent fashion items rather than handwritten digits, so each class is more diverse, and the problem turns out to be significantly more challenging than MNIST.**"
   ]
  },
  {
   "cell_type": "markdown",
   "metadata": {},
   "source": [
    "####  <span style=\"color:red\">**Question 2.1.**</span> Load the Fashion MNIST using Keras datasets"
   ]
  },
  {
   "cell_type": "markdown",
   "metadata": {},
   "source": [
    "We first use keras incoporated in TensorFlow 2.x for loading the training and testing sets."
   ]
  },
  {
   "cell_type": "code",
   "execution_count": 5,
   "metadata": {},
   "outputs": [],
   "source": [
    "import tensorflow as tf\n",
    "from tensorflow import keras"
   ]
  },
  {
   "cell_type": "markdown",
   "metadata": {},
   "source": [
    "We first use keras datasets in TF 2.x to load Fashion MNIST dataset."
   ]
  },
  {
   "cell_type": "code",
   "execution_count": 6,
   "metadata": {},
   "outputs": [],
   "source": [
    "fashion_mnist = keras.datasets.fashion_mnist\n",
    "(X_train_full_img, y_train_full), (X_test_img, y_test) = fashion_mnist.load_data()"
   ]
  },
  {
   "cell_type": "code",
   "execution_count": 7,
   "metadata": {},
   "outputs": [
    {
     "data": {
      "text/plain": [
       "(60000, 28, 28)"
      ]
     },
     "execution_count": 7,
     "metadata": {},
     "output_type": "execute_result"
    }
   ],
   "source": [
    "X_train_full_img.shape"
   ]
  },
  {
   "cell_type": "markdown",
   "metadata": {},
   "source": [
    "The shape of X_train_full_img is $(60000, 28, 28 )$ and that of X_test_img is $(10000, 28, 28)$. We next convert them to matrices of vectors and store in X_train_full and X_test."
   ]
  },
  {
   "cell_type": "code",
   "execution_count": 8,
   "metadata": {},
   "outputs": [
    {
     "name": "stdout",
     "output_type": "stream",
     "text": [
      "(60000, 784) (60000,)\n",
      "(10000, 784) (10000,)\n"
     ]
    }
   ],
   "source": [
    "num_train = X_train_full_img.shape[0]\n",
    "num_test = X_test_img.shape[0]\n",
    "X_train_full = X_train_full_img.reshape(num_train,-1)/255.0\n",
    "X_test = X_test_img.reshape(num_test, -1)/255.0\n",
    "print(X_train_full.shape, y_train_full.shape)\n",
    "print(X_test.shape, y_test.shape)"
   ]
  },
  {
   "cell_type": "markdown",
   "metadata": {},
   "source": [
    "####  <span style=\"color:red\">**Question 2.2.**</span> Preprocess the dataset and split into training, validation, and testing datasets\n",
    "\n",
    "You need to write the code to address the following requirements:\n",
    "- Use $10 \\%$ of X_train_full for validation and the rest of X_train_full for training. This splits X_train_full and y_train_full into X_train, y_train ($90 \\%$) and X_valid, y_valid ($10 \\%$).\n",
    "- Finally, scale the piels of X_train, X_valid, and X_test to $[0,1]$) (i.e., $X = X/255.0$)."
   ]
  },
  {
   "cell_type": "code",
   "execution_count": 9,
   "metadata": {},
   "outputs": [],
   "source": [
    "import math\n",
    "N = X_train_full.shape[0]\n",
    "i = math.floor(0.9*N)\n",
    "X_train, y_train = X_train_full[0:i], y_train_full[0:i] \n",
    "X_valid, y_valid = X_train_full[i:], y_train_full[i:]\n",
    "X_train, X_valid, X_test = X_train/255.0, X_valid/255.0, X_test/255.0"
   ]
  },
  {
   "cell_type": "markdown",
   "metadata": {},
   "source": [
    "You have now the separate training, validation, and testing sets for training your model."
   ]
  },
  {
   "cell_type": "markdown",
   "metadata": {},
   "source": [
    "####  <span style=\"color:red\">**Question 2.3.**</span> Visualize some images in the training set with labels\n",
    "\n",
    "You are required to write the code to show the first $36$ images in X_train_full_img (which is an array of images) with labels as shown in the following figure. Note that the class names of Fashion MNIST are as follows \n",
    "- \"T-shirt/top\", \"Trouser\", \"Pullover\", \"Dress\", \"Coat\", \"Sandal\", \"Shirt\", \"Sneaker\", \"Bag\", \"Ankle boot\"\n",
    "\n",
    "<img src=\"Figures/Fashion_MNIST.png\" width=\"350\" align=\"center\"/>"
   ]
  },
  {
   "cell_type": "code",
   "execution_count": 10,
   "metadata": {},
   "outputs": [],
   "source": [
    "import matplotlib.pyplot as plt\n",
    "%matplotlib inline"
   ]
  },
  {
   "cell_type": "code",
   "execution_count": 11,
   "metadata": {},
   "outputs": [
    {
     "data": {
      "image/png": "[encoded data removed]",
      "text/plain": [
       "<Figure size 720x720 with 36 Axes>"
      ]
     },
     "metadata": {},
     "output_type": "display_data"
    }
   ],
   "source": [
    "# YOU ARE REQUIRED TO INSERT YOUR CODES IN THIS CELL\n",
    "class_names = [\"T-shirt/top\", \"Trouser\", \"Pullover\", \"Dress\", \"Coat\", \"Sandal\", \"Shirt\", \"Sneaker\", \"Bag\", \"Ankle boot\"]\n",
    "plt.figure(figsize=(10,10))\n",
    "for i in range(36):\n",
    "    plt.subplot(6,6,i+1)\n",
    "    plt.xticks([])\n",
    "    plt.yticks([])\n",
    "    plt.grid(False)\n",
    "    plt.imshow(X_train_full_img[i], cmap=plt.cm.binary)\n",
    "    plt.xlabel(class_names[y_train_full[i]])\n",
    "plt.show()"
   ]
  },
  {
   "cell_type": "markdown",
   "metadata": {},
   "source": [
    "####  <span style=\"color:red\">**Question 2.4.**</span> Write code for the dense layer"
   ]
  },
  {
   "cell_type": "markdown",
   "metadata": {},
   "source": [
    "We now develop a feed-forward neural networks with the architecture $784 \\rightarrow 20(ReLU) \\rightarrow 25(ReLU) \\rightarrow 10(softmax)$. We first declare the code for the hidden layer with a linear operation and activation. Since we are implementing using TF 1.x syntax, we first import the compatible version of TF 1.x in TF 2.x."
   ]
  },
  {
   "cell_type": "code",
   "execution_count": 12,
   "metadata": {},
   "outputs": [
    {
     "name": "stdout",
     "output_type": "stream",
     "text": [
      "WARNING:tensorflow:From C:\\Users\\deepa\\Anaconda3\\lib\\site-packages\\tensorflow_core\\python\\compat\\v2_compat.py:88: disable_resource_variables (from tensorflow.python.ops.variable_scope) is deprecated and will be removed in a future version.\n",
      "Instructions for updating:\n",
      "non-resource variables are not supported in the long term\n"
     ]
    }
   ],
   "source": [
    "import tensorflow.compat.v1 as tf\n",
    "tf.disable_v2_behavior()"
   ]
  },
  {
   "cell_type": "code",
   "execution_count": 13,
   "metadata": {},
   "outputs": [],
   "source": [
    "# YOU ARE REQUIRED TO INSERT YOUR CODES IN THIS CELL [3 marks]\n",
    "import numpy as np\n",
    "\n",
    "def dense_layer(x, num_neurons, name, activation=None):\n",
    "    with tf.name_scope(name):\n",
    "        num_inputs = int(x.get_shape()[1])\n",
    "        stddev = 2 / np.sqrt(num_inputs)\n",
    "        init = tf.truncated_normal([num_inputs, num_neurons], stddev=stddev)\n",
    "        b_init = tf.truncated_normal([num_neurons], stddev = stddev)\n",
    "        W = tf.Variable(init, name='W')\n",
    "        b = tf.Variable(b_init, name='b')\n",
    "        z = tf.matmul(x,W) + b\n",
    "    if activation == \"sigmoid\":\n",
    "        return 1/(1+np.exp(-z))\n",
    "    elif activation == \"relu\":\n",
    "        return max(0,z)\n",
    "    else:\n",
    "        return z"
   ]
  },
  {
   "cell_type": "markdown",
   "metadata": {},
   "source": [
    "####  <span style=\"color:red\">**Question 2.5.**</span> Declare your network and visualize quantities of interest using TensorBoard\n",
    "\n",
    "It is the time to implement your network with the architecture $784 \\rightarrow 20(ReLU) \\rightarrow 25(ReLU) \\rightarrow 10(softmax)$. Note that we need to store and visualize the following quantities using TensorBoard:\n",
    "- Gradients of trainable variables (weight matrices and biases) (Hint: use method `compute_gradients` with respect to the loss function). \n",
    "- Hidden layers 1 and 2."
   ]
  },
  {
   "cell_type": "code",
   "execution_count": 14,
   "metadata": {},
   "outputs": [],
   "source": [
    "num_hidden1 = 20\n",
    "num_hidden2 = 25\n",
    "num_outputs = 10\n",
    "num_inputs = 784  #28 x 28"
   ]
  },
  {
   "cell_type": "markdown",
   "metadata": {},
   "source": [
    "*Run the following cell to create necessary subfolders for this assignment. You must **not** modify these codes and **must** run it first*."
   ]
  },
  {
   "cell_type": "code",
   "execution_count": 15,
   "metadata": {},
   "outputs": [],
   "source": [
    "# Create necessary subfolders to store immediate files for this assignment.\n",
    "\n",
    "import os\n",
    "if not os.path.exists(\"./models/dnn0\"):\n",
    "    os.makedirs(\"models/dnn0\")"
   ]
  },
  {
   "cell_type": "code",
   "execution_count": 16,
   "metadata": {},
   "outputs": [],
   "source": [
    "inputs = tf.placeholder(tf.float32, shape=[None, num_inputs], name=\"inputs\") \n",
    "labels = tf.placeholder(tf.int32, shape=[None], name=\"labels\") \n",
    "\n",
    "with tf.name_scope(\"dnn\"):\n",
    "    hidden1 = dense_layer(inputs, num_hidden1, name='layer1', activation=tf.nn.relu)\n",
    "    hidden2 = dense_layer(hidden1, num_hidden2, name='layer2', activation=tf.nn.relu)\n",
    "    logits = dense_layer(hidden2, num_outputs, name='logits')\n",
    "    \n",
    "with tf.name_scope(\"loss\"):\n",
    "    xentropy = tf.nn.sparse_softmax_cross_entropy_with_logits(labels=labels, logits=logits, name='xentropy')\n",
    "    loss = tf.reduce_mean(xentropy, name=\"loss\")\n",
    "    \n",
    "with tf.name_scope(\"evaluation\"):\n",
    "    correct =  tf.nn.in_top_k(logits, labels, 1)\n",
    "    accuracy = tf.reduce_mean(tf.cast(correct, tf.float32))\n",
    "    \n",
    "with tf.name_scope(\"train\"):\n",
    "    learning_rate = 0.001\n",
    "    optimizer = tf.train.AdamOptimizer(learning_rate=learning_rate)\n",
    "    grads = optimizer.compute_gradients(loss)\n",
    "    training_op = optimizer.apply_gradients(grads)\n",
    "    \n",
    "    for var in tf.trainable_variables():\n",
    "        tf.summary.histogram(var.op.name + \"/values\", var)\n",
    "        \n",
    "    for grad, var in grads:\n",
    "        if grad is not None:\n",
    "            tf.summary.histogram(var.op.name + \"/gradients\", grad)\n",
    "\n",
    "# summary\n",
    "accuracy_summary = tf.summary.scalar(\"accuracy\", accuracy)\n"
   ]
  },
  {
   "cell_type": "code",
   "execution_count": 17,
   "metadata": {},
   "outputs": [],
   "source": [
    "# YOU ARE REQUIRED TO INSERT YOUR CODES IN THIS CELL\n",
    "\n",
    "# merge all summary\n",
    "tf.summary.histogram('hidden1/activations', hidden1)\n",
    "tf.summary.histogram('hidden2/activations', hidden2)\n",
    "merged = tf.summary.merge_all()\n",
    "\n",
    "init = tf.global_variables_initializer()\n",
    "saver = tf.train.Saver()\n",
    "\n",
    "train_writer = tf.summary.FileWriter(\"models/dnn0/train\", tf.get_default_graph())\n",
    "test_writer = tf.summary.FileWriter(\"models/dnn0/test\", tf.get_default_graph())\n",
    "\n",
    "num_epochs = 50\n",
    "batch_size = 128"
   ]
  },
  {
   "cell_type": "markdown",
   "metadata": {},
   "source": [
    "####  <span style=\"color:red\">**Question 2.6.**</span> Train your network and report the resutls, and inspect the computational graph and visualize the gradients, hidden layers 1,2"
   ]
  },
  {
   "cell_type": "markdown",
   "metadata": {},
   "source": [
    "The **first** part of this sub-question requires you to write codes in the following cell."
   ]
  },
  {
   "cell_type": "code",
   "execution_count": 18,
   "metadata": {},
   "outputs": [
    {
     "name": "stdout",
     "output_type": "stream",
     "text": [
      "Epoch\tTrain accuracy\tValid accuracy\n",
      "0\t0.6582592725753784\t0.6623333096504211\n",
      "1\t0.7408703565597534\t0.7490000128746033\n",
      "2\t0.7658888697624207\t0.7726666927337646\n",
      "3\t0.7824814915657043\t0.7836666703224182\n",
      "4\t0.7955185174942017\t0.7951666712760925\n",
      "5\t0.8047778010368347\t0.8058333396911621\n",
      "6\t0.8123148083686829\t0.8146666884422302\n",
      "7\t0.8171296119689941\t0.8153333067893982\n",
      "8\t0.8217407464981079\t0.8191666603088379\n",
      "9\t0.8251296281814575\t0.8211666941642761\n",
      "10\t0.8287962675094604\t0.8230000138282776\n",
      "11\t0.8324074149131775\t0.824833333492279\n",
      "12\t0.8351481556892395\t0.8276666402816772\n",
      "13\t0.8372407555580139\t0.8296666741371155\n",
      "14\t0.8392407298088074\t0.8306666612625122\n",
      "15\t0.8415185213088989\t0.8338333368301392\n",
      "16\t0.8428148031234741\t0.8338333368301392\n",
      "17\t0.8445925712585449\t0.8348333239555359\n",
      "18\t0.8459259271621704\t0.8358333110809326\n",
      "19\t0.8472037315368652\t0.8374999761581421\n",
      "20\t0.8486666679382324\t0.8381666541099548\n",
      "21\t0.8502222299575806\t0.8391666412353516\n",
      "22\t0.8513148427009583\t0.8410000205039978\n",
      "23\t0.8522592782974243\t0.8421666622161865\n",
      "24\t0.8529629707336426\t0.8426666855812073\n",
      "25\t0.8534814715385437\t0.8428333401679993\n",
      "26\t0.8544444441795349\t0.843500018119812\n",
      "27\t0.8549444675445557\t0.843999981880188\n",
      "28\t0.8553703427314758\t0.8446666598320007\n",
      "29\t0.8557407259941101\t0.8453333377838135\n",
      "30\t0.8562222123146057\t0.8456666469573975\n",
      "31\t0.8566481471061707\t0.8458333611488342\n",
      "32\t0.8572037220001221\t0.8463333249092102\n",
      "33\t0.8576481342315674\t0.8473333120346069\n",
      "34\t0.8581110835075378\t0.8476666808128357\n",
      "35\t0.8586851954460144\t0.8479999899864197\n",
      "36\t0.8587037324905396\t0.8481666445732117\n",
      "37\t0.8589814901351929\t0.8486666679382324\n",
      "38\t0.8589444160461426\t0.8489999771118164\n",
      "39\t0.8593147993087769\t0.8489999771118164\n",
      "40\t0.8600555658340454\t0.8495000004768372\n",
      "41\t0.8603147864341736\t0.8498333096504211\n",
      "42\t0.8604259490966797\t0.8503333330154419\n",
      "43\t0.8606111407279968\t0.8504999876022339\n",
      "44\t0.8609259128570557\t0.8506666421890259\n",
      "45\t0.8612407445907593\t0.8504999876022339\n",
      "46\t0.8614073991775513\t0.8501666784286499\n",
      "47\t0.8617592453956604\t0.8501666784286499\n",
      "48\t0.8618518710136414\t0.8508333563804626\n",
      "49\t0.8621481657028198\t0.8510000109672546\n"
     ]
    }
   ],
   "source": [
    "# YOU ARE REQUIRED TO INSERT YOUR CODES IN THIS CELL\n",
    "\n",
    "with tf.Session() as sess:\n",
    "    init.run()\n",
    "    print(\"Epoch\\tTrain accuracy\\tValid accuracy\")\n",
    "    for epoch in range(num_epochs):\n",
    "        for idx_start in range(0, X_train.shape[0], batch_size):\n",
    "            idx_end = min(X_train.shape[0], idx_start + batch_size)#Insert your code here\n",
    "            X_batch, y_batch = X_train[idx_start:idx_end], y_train[idx_start:idx_end]#Insert your code here\n",
    "            sess.run(training_op, feed_dict={inputs: X_batch, labels: y_batch})\n",
    "            \n",
    "        summary_train, acc_train = sess.run([merged, accuracy],feed_dict={inputs:X_train,labels:y_train})#Insert your code here\n",
    "        summary_valid, acc_valid = sess.run([merged, accuracy],feed_dict={inputs:X_valid,labels:y_valid})#Insert your code here\n",
    "        \n",
    "        train_writer.add_summary(summary_train, epoch)\n",
    "        test_writer.add_summary(summary_valid, epoch)\n",
    "        \n",
    "        print(\"{}\\t{}\\t{}\".format(epoch, acc_train, acc_valid))\n",
    "\n",
    "    save_path = saver.save(sess, \"models/dnn0.ckpt\")"
   ]
  },
  {
   "cell_type": "markdown",
   "metadata": {},
   "source": [
    "The **second** part of this subquestion requires you use the Tensorboard, find out relevant visualizations and input them into the markdown cell below. (***Hint***: A software to capture the screen such as *Snipping Tools* in *Windows* may help)."
   ]
  },
  {
   "cell_type": "markdown",
   "metadata": {},
   "source": [
    "<span style=\"color:red\">**YOU ARE REQUIRED TO INSERT YOUR OWN GRAPHICS IN THIS MARKDOWN CELL**</span>\n",
    "\n",
    "* **Hidden activations**: \n",
    "\n",
    "First hidden layer | Second hidden layer\n",
    ":-: | :-:\n",
    "![alt text](layer1.png)| ![alt text](layer2.png)\n",
    " \n",
    "* **Parameter gradients**: \n",
    "\n",
    "First weight layer | Second weight layer | Last weight layer\n",
    ":-: | :-: | :-:\n",
    "![alt text](layer1_para.png) | ![alt text](layer2_para.png) | ![alt text](final_layer_para.png)\n"
   ]
  },
  {
   "cell_type": "markdown",
   "metadata": {},
   "source": [
    "## <span style=\"color:#0b486b\">Part 3: Convolutional Neural Networks and Image Classification</span>"
   ]
  },
  {
   "cell_type": "markdown",
   "metadata": {},
   "source": [
    "**This part of the asssignment is designed to access your knowledge and coding skill with Tensorflow as well as hands-on experience with training Convolutional Neural Network (CNN).**"
   ]
  },
  {
   "cell_type": "markdown",
   "metadata": {},
   "source": [
    "**The dataset we use for this part is a small animal dataset consisting of $2000$ images of cats, dogs, fishes and lions, each of which has 500 images. You can download the dataset at [download here](https://drive.google.com/file/d/1t5b-pNMK5-uIK6wZIIHBluLY7tPK0JzV/view?usp=sharing) and then decompress to the folder the folder `datasets\\Animals` for you in the assignment folder.**\n",
    "\n",
    "**Your task is to build a CNN model using *TF 2.x* to classify these animals. A module <span style=\"color:red\">models.py</span>, is to be used, with some of the following classes:**"
   ]
  },
  {
   "cell_type": "markdown",
   "metadata": {},
   "source": [
    "1. `AnimalsDatasetManager`: Support with loading and spliting the dataset into the train-val-test sets. It also help generate next batches for training. `AnimalsDatasetManager` will be passed to CNN model for training and testing.\n",
    "2. `DefaultModel`: A base class for the CNN model.\n",
    "3. `YourModel`: The class you'll need to implement to build the CNN model. It inherits some useful attributes and functions from the base class `DefaultModel`"
   ]
  },
  {
   "cell_type": "markdown",
   "metadata": {},
   "source": [
    "Firstly, we need to run the following cells to load and preprocess the Animal dataset."
   ]
  },
  {
   "cell_type": "code",
   "execution_count": 19,
   "metadata": {},
   "outputs": [],
   "source": [
    "%load_ext autoreload\n",
    "%autoreload 2"
   ]
  },
  {
   "cell_type": "code",
   "execution_count": 20,
   "metadata": {},
   "outputs": [],
   "source": [
    "import os\n",
    "import matplotlib.pyplot as plt\n",
    "plt.style.use('ggplot')\n",
    "%matplotlib inline\n",
    "import models\n",
    "from models import SimplePreprocessor, AnimalsDatasetManager, DefaultModel"
   ]
  },
  {
   "cell_type": "code",
   "execution_count": 21,
   "metadata": {},
   "outputs": [],
   "source": [
    "def create_label_folder_dict(adir):\n",
    "    sub_folders= [folder for folder in os.listdir(adir)\n",
    "                  if os.path.isdir(os.path.join(adir, folder))]\n",
    "    label_folder_dict= dict()\n",
    "    for folder in sub_folders:\n",
    "        item= {folder: os.path.abspath(os.path.join(adir, folder))}\n",
    "        label_folder_dict.update(item)\n",
    "    return label_folder_dict"
   ]
  },
  {
   "cell_type": "code",
   "execution_count": 22,
   "metadata": {},
   "outputs": [],
   "source": [
    "label_folder_dict= create_label_folder_dict(\"./datasets/Animals\")"
   ]
  },
  {
   "cell_type": "markdown",
   "metadata": {},
   "source": [
    "The below code helps to create a data manager that contains all relevant methods used to manage and process our experimental data. "
   ]
  },
  {
   "cell_type": "code",
   "execution_count": 23,
   "metadata": {},
   "outputs": [
    {
     "name": "stdout",
     "output_type": "stream",
     "text": [
      "cats 12500\n",
      "Processed 100/500\n",
      "Processed 200/500\n",
      "Processed 300/500\n",
      "Processed 400/500\n",
      "Processed 500/500\n",
      "dogs 12500\n",
      "Processed 100/500\n",
      "Processed 200/500\n",
      "Processed 300/500\n",
      "Processed 400/500\n",
      "Processed 500/500\n",
      "fishes 500\n",
      "Processed 100/500\n",
      "Processed 200/500\n",
      "Processed 300/500\n",
      "Processed 400/500\n",
      "Processed 500/500\n",
      "lions 500\n",
      "Processed 100/500\n",
      "Processed 200/500\n",
      "Processed 300/500\n",
      "Processed 400/500\n",
      "Processed 500/500\n"
     ]
    }
   ],
   "source": [
    "sp = SimplePreprocessor(width=32, height=32)\n",
    "data_manager = AnimalsDatasetManager([sp])\n",
    "data_manager.load(label_folder_dict, verbose=100)\n",
    "data_manager.process_data_label()\n",
    "data_manager.train_valid_test_split()"
   ]
  },
  {
   "cell_type": "markdown",
   "metadata": {},
   "source": [
    "Note that the object `data_manager` has the attributes relating to *the training, validation, and testing sets* as shown belows. You can use them in training your developped models in the sequel."
   ]
  },
  {
   "cell_type": "code",
   "execution_count": 24,
   "metadata": {},
   "outputs": [
    {
     "name": "stdout",
     "output_type": "stream",
     "text": [
      "(1600, 32, 32, 3) (1600,)\n",
      "(200, 32, 32, 3) (200,)\n",
      "(200, 32, 32, 3) (200,)\n",
      "['cats' 'dogs' 'fishes' 'lions']\n"
     ]
    }
   ],
   "source": [
    "print(data_manager.X_train.shape, data_manager.y_train.shape)\n",
    "print(data_manager.X_valid.shape, data_manager.y_valid.shape)\n",
    "print(data_manager.X_test.shape, data_manager.y_test.shape)\n",
    "print(data_manager.classes)"
   ]
  },
  {
   "cell_type": "markdown",
   "metadata": {},
   "source": [
    "We now run the **default model** built in the **models.py** file which serves as a basic baseline to start the investigation. Follow the following steps to realize how to run a model and know the built-in methods associated to a model developped in the DefaultModel class."
   ]
  },
  {
   "cell_type": "markdown",
   "metadata": {},
   "source": [
    "We first initialize a default model from the DefaultModel class. Basically, we can define the relevant parameters of training a model including `num_classes`, `optimizer`, `learning_rate`, `batch_size`, and `num_epochs`."
   ]
  },
  {
   "cell_type": "code",
   "execution_count": 25,
   "metadata": {},
   "outputs": [],
   "source": [
    "network1 = DefaultModel(name='network1',\n",
    "                       num_classes=len(data_manager.classes),\n",
    "                       optimizer='sgd',\n",
    "                       batch_size= 128,\n",
    "                       num_epochs = 20,\n",
    "                       learning_rate=0.5)"
   ]
  },
  {
   "cell_type": "markdown",
   "metadata": {},
   "source": [
    "The method `build_cnn()` assists us in building your convolutional neural network. You can view the code (in the **models.py** file) of the model behind a default model to realize how simple it is. Additionally, the method `summary()` shows the architecture of a model."
   ]
  },
  {
   "cell_type": "code",
   "execution_count": 26,
   "metadata": {},
   "outputs": [
    {
     "name": "stdout",
     "output_type": "stream",
     "text": [
      "WARNING:tensorflow:From C:\\Users\\deepa\\Anaconda3\\lib\\site-packages\\tensorflow_core\\python\\ops\\resource_variable_ops.py:1635: calling BaseResourceVariable.__init__ (from tensorflow.python.ops.resource_variable_ops) with constraint is deprecated and will be removed in a future version.\n",
      "Instructions for updating:\n",
      "If using Keras pass *_constraint arguments to layers.\n",
      "Model: \"sequential_1\"\n",
      "_________________________________________________________________\n",
      "Layer (type)                 Output Shape              Param #   \n",
      "=================================================================\n",
      "conv2d (Conv2D)              (None, 32, 32, 32)        896       \n",
      "_________________________________________________________________\n",
      "conv2d_1 (Conv2D)            (None, 32, 32, 32)        9248      \n",
      "_________________________________________________________________\n",
      "average_pooling2d (AveragePo (None, 16, 16, 32)        0         \n",
      "_________________________________________________________________\n",
      "conv2d_2 (Conv2D)            (None, 16, 16, 64)        18496     \n",
      "_________________________________________________________________\n",
      "conv2d_3 (Conv2D)            (None, 16, 16, 64)        36928     \n",
      "_________________________________________________________________\n",
      "average_pooling2d_1 (Average (None, 8, 8, 64)          0         \n",
      "_________________________________________________________________\n",
      "flatten (Flatten)            (None, 4096)              0         \n",
      "_________________________________________________________________\n",
      "dense (Dense)                (None, 4)                 16388     \n",
      "=================================================================\n",
      "Total params: 81,956\n",
      "Trainable params: 81,956\n",
      "Non-trainable params: 0\n",
      "_________________________________________________________________\n",
      "None\n"
     ]
    }
   ],
   "source": [
    "network1.build_cnn()\n",
    "network1.summary()"
   ]
  },
  {
   "cell_type": "markdown",
   "metadata": {},
   "source": [
    "To train a model regarding to the datasets stored in `data_manager`, you can invoke the method `fit()` for which you can specify the batch size and number of epochs for your training. "
   ]
  },
  {
   "cell_type": "code",
   "execution_count": 27,
   "metadata": {},
   "outputs": [
    {
     "name": "stdout",
     "output_type": "stream",
     "text": [
      "Train on 1600 samples, validate on 200 samples\n",
      "Epoch 1/20\n",
      "1600/1600 [==============================] - 5s 3ms/sample - loss: 1.3924 - acc: 0.2713 - val_loss: 1.3850 - val_acc: 0.2700\n",
      "Epoch 2/20\n",
      "1600/1600 [==============================] - 5s 3ms/sample - loss: 1.3813 - acc: 0.2788 - val_loss: 1.3878 - val_acc: 0.2450\n",
      "Epoch 3/20\n",
      "1600/1600 [==============================] - 5s 3ms/sample - loss: 1.3779 - acc: 0.2706 - val_loss: 1.3978 - val_acc: 0.2250\n",
      "Epoch 4/20\n",
      "1600/1600 [==============================] - 5s 3ms/sample - loss: 1.3948 - acc: 0.2725 - val_loss: 1.3894 - val_acc: 0.2450\n",
      "Epoch 5/20\n",
      "1600/1600 [==============================] - 5s 3ms/sample - loss: 1.3787 - acc: 0.2562 - val_loss: 1.3623 - val_acc: 0.2950\n",
      "Epoch 6/20\n",
      "1600/1600 [==============================] - 5s 3ms/sample - loss: 1.3895 - acc: 0.2569 - val_loss: 1.3886 - val_acc: 0.2300\n",
      "Epoch 7/20\n",
      "1600/1600 [==============================] - 5s 3ms/sample - loss: 1.3852 - acc: 0.2738 - val_loss: 1.3947 - val_acc: 0.2250\n",
      "Epoch 8/20\n",
      "1600/1600 [==============================] - 5s 3ms/sample - loss: 1.3743 - acc: 0.2794 - val_loss: 1.3805 - val_acc: 0.2800\n",
      "Epoch 9/20\n",
      "1600/1600 [==============================] - 5s 3ms/sample - loss: 1.3845 - acc: 0.2531 - val_loss: 1.3908 - val_acc: 0.2250\n",
      "Epoch 10/20\n",
      "1600/1600 [==============================] - 5s 3ms/sample - loss: 1.3800 - acc: 0.3006 - val_loss: 2.5975 - val_acc: 0.2750\n",
      "Epoch 11/20\n",
      "1600/1600 [==============================] - 5s 3ms/sample - loss: 1.4497 - acc: 0.2619 - val_loss: 1.3871 - val_acc: 0.2300\n",
      "Epoch 12/20\n",
      "1600/1600 [==============================] - 5s 3ms/sample - loss: 1.3758 - acc: 0.2881 - val_loss: 1.7779 - val_acc: 0.3750\n",
      "Epoch 13/20\n",
      "1600/1600 [==============================] - 5s 3ms/sample - loss: 1.4123 - acc: 0.2500 - val_loss: 1.3860 - val_acc: 0.2450\n",
      "Epoch 14/20\n",
      "1600/1600 [==============================] - 5s 3ms/sample - loss: 1.3872 - acc: 0.2519 - val_loss: 1.3733 - val_acc: 0.3150\n",
      "Epoch 15/20\n",
      "1600/1600 [==============================] - 5s 3ms/sample - loss: 1.3911 - acc: 0.2488 - val_loss: 1.3892 - val_acc: 0.2450\n",
      "Epoch 16/20\n",
      "1600/1600 [==============================] - 5s 3ms/sample - loss: 1.3876 - acc: 0.2556 - val_loss: 1.3876 - val_acc: 0.2550\n",
      "Epoch 17/20\n",
      "1600/1600 [==============================] - 4s 3ms/sample - loss: 1.3890 - acc: 0.2469 - val_loss: 1.3874 - val_acc: 0.2250\n",
      "Epoch 18/20\n",
      "1600/1600 [==============================] - 4s 2ms/sample - loss: 1.3886 - acc: 0.2394 - val_loss: 1.3898 - val_acc: 0.2250\n",
      "Epoch 19/20\n",
      "1600/1600 [==============================] - 4s 2ms/sample - loss: 1.3881 - acc: 0.2469 - val_loss: 1.3890 - val_acc: 0.2450\n",
      "Epoch 20/20\n",
      "1600/1600 [==============================] - 4s 3ms/sample - loss: 1.3881 - acc: 0.2494 - val_loss: 1.3880 - val_acc: 0.2250\n"
     ]
    }
   ],
   "source": [
    "network1.fit(data_manager, batch_size = 64, num_epochs = 20)"
   ]
  },
  {
   "cell_type": "markdown",
   "metadata": {},
   "source": [
    "Here you can compute the accuracy of your trained model with respect to a separate testing set."
   ]
  },
  {
   "cell_type": "code",
   "execution_count": 28,
   "metadata": {},
   "outputs": [
    {
     "name": "stdout",
     "output_type": "stream",
     "text": [
      "200/200 [==============================] - 0s 1ms/sample - loss: 1.3873 - acc: 0.2450\n"
     ]
    },
    {
     "data": {
      "text/plain": [
       "0.245"
      ]
     },
     "execution_count": 28,
     "metadata": {},
     "output_type": "execute_result"
    }
   ],
   "source": [
    "network1.compute_accuracy(data_manager.X_test, data_manager.y_test)"
   ]
  },
  {
   "cell_type": "markdown",
   "metadata": {},
   "source": [
    "Below shows how you can inspect the training progress."
   ]
  },
  {
   "cell_type": "code",
   "execution_count": 29,
   "metadata": {},
   "outputs": [
    {
     "data": {
      "image/png": "[encoded data removed]",
      "text/plain": [
       "<Figure size 576x360 with 1 Axes>"
      ]
     },
     "metadata": {},
     "output_type": "display_data"
    }
   ],
   "source": [
    "network1.plot_progress()"
   ]
  },
  {
   "cell_type": "markdown",
   "metadata": {},
   "source": [
    "You can use the method `predict()` to predict labels for data examples in a test set."
   ]
  },
  {
   "cell_type": "code",
   "execution_count": 30,
   "metadata": {},
   "outputs": [
    {
     "data": {
      "text/plain": [
       "array([3, 3, 3, 3, 3, 3, 3, 3, 3, 3], dtype=int64)"
      ]
     },
     "execution_count": 30,
     "metadata": {},
     "output_type": "execute_result"
    }
   ],
   "source": [
    "network1.predict(data_manager.X_test[0:10])"
   ]
  },
  {
   "cell_type": "markdown",
   "metadata": {},
   "source": [
    "Finally, the method `plot_prediction()` visualizes the predictions for a test set in which several images are chosen to show the predictions."
   ]
  },
  {
   "cell_type": "code",
   "execution_count": 31,
   "metadata": {},
   "outputs": [
    {
     "data": {
      "text/plain": [
       "<Figure size 432x288 with 0 Axes>"
      ]
     },
     "metadata": {},
     "output_type": "display_data"
    },
    {
     "data": {
      "image/png": "[encoded data removed]",
      "text/plain": [
       "<Figure size 720x720 with 25 Axes>"
      ]
     },
     "metadata": {},
     "output_type": "display_data"
    }
   ],
   "source": [
    "network1.plot_prediction(data_manager.X_test, data_manager.y_test, data_manager.classes)"
   ]
  },
  {
   "cell_type": "markdown",
   "metadata": {},
   "source": [
    "<span style=\"color:red\">**Question 3.1.**</span> **After running the above cells to train the default model and observe the learning curve. Report your observation (i.e. did the model learn well? if not, what is the problem? what would you do to improve it?). Write your answer below.**"
   ]
  },
  {
   "cell_type": "markdown",
   "metadata": {},
   "source": [
    "<span style=\"color:#0b486b\"> *#Your answer and observation here* </span>\n",
    "\n",
    "\n",
    "From the graph above, one can observe that the model did not learn well as the loss is more and the accuracy is less. Possible reasons include covariate shifts, overfitting etc. Inorder to improve this, techniques such as batch normalisation or dropout could be used.\n"
   ]
  },
  {
   "cell_type": "markdown",
   "metadata": {},
   "source": [
    "<span style=\"color:red\">**Question 3.2.**</span> **Normally the first parameter to tune in Deep Learning is learning rate. In this question, you'll try running the default model with different learning rates (recommended in the list $[0.0001, 0.001, 0.005, 0.01]$) by entering the value in the cell below and run it. You should write your own code below for this learning rate tuning. Note that you can set the attribute `verbose` of the `DefaultModel` class to `False` for keeping the training silently without showing its details. Report the learning rates you tried along with the validation accuracy for each learning rate. What is the final learning rate that you'll use? Why?**"
   ]
  },
  {
   "cell_type": "code",
   "execution_count": 32,
   "metadata": {},
   "outputs": [
    {
     "name": "stdout",
     "output_type": "stream",
     "text": [
      "Model: \"sequential_3\"\n",
      "_________________________________________________________________\n",
      "Layer (type)                 Output Shape              Param #   \n",
      "=================================================================\n",
      "conv2d_4 (Conv2D)            (None, 32, 32, 32)        896       \n",
      "_________________________________________________________________\n",
      "conv2d_5 (Conv2D)            (None, 32, 32, 32)        9248      \n",
      "_________________________________________________________________\n",
      "average_pooling2d_2 (Average (None, 16, 16, 32)        0         \n",
      "_________________________________________________________________\n",
      "conv2d_6 (Conv2D)            (None, 16, 16, 64)        18496     \n",
      "_________________________________________________________________\n",
      "conv2d_7 (Conv2D)            (None, 16, 16, 64)        36928     \n",
      "_________________________________________________________________\n",
      "average_pooling2d_3 (Average (None, 8, 8, 64)          0         \n",
      "_________________________________________________________________\n",
      "flatten_1 (Flatten)          (None, 4096)              0         \n",
      "_________________________________________________________________\n",
      "dense_1 (Dense)              (None, 4)                 16388     \n",
      "=================================================================\n",
      "Total params: 81,956\n",
      "Trainable params: 81,956\n",
      "Non-trainable params: 0\n",
      "_________________________________________________________________\n",
      "None\n",
      "Train on 1600 samples, validate on 200 samples\n",
      "Epoch 1/20\n",
      "1600/1600 [==============================] - 4s 3ms/sample - loss: 1.3602 - acc: 0.3137 - val_loss: 1.3373 - val_acc: 0.4200\n",
      "Epoch 2/20\n",
      "1600/1600 [==============================] - 4s 2ms/sample - loss: 1.3898 - acc: 0.2456 - val_loss: 1.3858 - val_acc: 0.2450\n",
      "Epoch 3/20\n",
      "1600/1600 [==============================] - 4s 3ms/sample - loss: 1.4331 - acc: 0.2788 - val_loss: 1.4114 - val_acc: 0.2400\n",
      "Epoch 4/20\n",
      "1600/1600 [==============================] - 4s 3ms/sample - loss: 1.4033 - acc: 0.2763 - val_loss: 1.3882 - val_acc: 0.2300\n",
      "Epoch 5/20\n",
      "1600/1600 [==============================] - 4s 3ms/sample - loss: 1.3885 - acc: 0.2338 - val_loss: 1.3891 - val_acc: 0.2400\n",
      "Epoch 6/20\n",
      "1600/1600 [==============================] - 4s 3ms/sample - loss: 1.3857 - acc: 0.2637 - val_loss: 1.3855 - val_acc: 0.2200\n",
      "Epoch 7/20\n",
      "1600/1600 [==============================] - 4s 3ms/sample - loss: 1.3667 - acc: 0.3244 - val_loss: 1.3260 - val_acc: 0.3800\n",
      "Epoch 8/20\n",
      "1600/1600 [==============================] - 4s 3ms/sample - loss: 1.4133 - acc: 0.2738 - val_loss: 1.3864 - val_acc: 0.2450\n",
      "Epoch 9/20\n",
      "1600/1600 [==============================] - 4s 3ms/sample - loss: 1.3875 - acc: 0.2519 - val_loss: 1.3899 - val_acc: 0.2450\n",
      "Epoch 10/20\n",
      "1600/1600 [==============================] - 4s 3ms/sample - loss: 1.3877 - acc: 0.2475 - val_loss: 1.3893 - val_acc: 0.2450\n",
      "Epoch 11/20\n",
      "1600/1600 [==============================] - 4s 3ms/sample - loss: 1.3875 - acc: 0.2606 - val_loss: 1.3901 - val_acc: 0.2250\n",
      "Epoch 12/20\n",
      "1600/1600 [==============================] - 4s 3ms/sample - loss: 1.3882 - acc: 0.2325 - val_loss: 1.3903 - val_acc: 0.2250\n",
      "Epoch 13/20\n",
      "1600/1600 [==============================] - 4s 3ms/sample - loss: 1.3888 - acc: 0.2350 - val_loss: 1.3887 - val_acc: 0.2550\n",
      "Epoch 14/20\n",
      "1600/1600 [==============================] - 4s 3ms/sample - loss: 1.3875 - acc: 0.2444 - val_loss: 1.3885 - val_acc: 0.2450\n",
      "Epoch 15/20\n",
      "1600/1600 [==============================] - 4s 2ms/sample - loss: 1.3883 - acc: 0.2269 - val_loss: 1.3870 - val_acc: 0.2250\n",
      "Epoch 16/20\n",
      "1600/1600 [==============================] - 4s 3ms/sample - loss: 1.3880 - acc: 0.2531 - val_loss: 1.3897 - val_acc: 0.2450\n",
      "Epoch 17/20\n",
      "1600/1600 [==============================] - 4s 2ms/sample - loss: 1.3880 - acc: 0.2381 - val_loss: 1.3865 - val_acc: 0.2750\n",
      "Epoch 18/20\n",
      "1600/1600 [==============================] - 4s 2ms/sample - loss: 1.3884 - acc: 0.2500 - val_loss: 1.3872 - val_acc: 0.2550\n",
      "Epoch 19/20\n",
      "1600/1600 [==============================] - 4s 2ms/sample - loss: 1.3895 - acc: 0.2181 - val_loss: 1.3883 - val_acc: 0.2550\n",
      "Epoch 20/20\n",
      "1600/1600 [==============================] - 4s 3ms/sample - loss: 1.3887 - acc: 0.2400 - val_loss: 1.3882 - val_acc: 0.2250\n",
      "200/200 [==============================] - 0s 1ms/sample - loss: 1.3875 - acc: 0.2450\n"
     ]
    },
    {
     "data": {
      "text/plain": [
       "0.245"
      ]
     },
     "execution_count": 32,
     "metadata": {},
     "output_type": "execute_result"
    }
   ],
   "source": [
    "network1 = DefaultModel(name='network1',\n",
    "                       num_classes=len(data_manager.classes),\n",
    "                       optimizer='sgd',\n",
    "                       batch_size= 128,\n",
    "                       num_epochs = 20,\n",
    "                       learning_rate=0.5)\n",
    "network1.build_cnn()\n",
    "network1.summary()\n",
    "network1.fit(data_manager, batch_size = 64, num_epochs = 20)\n",
    "network1.compute_accuracy(data_manager.X_test, data_manager.y_test)"
   ]
  },
  {
   "cell_type": "code",
   "execution_count": 33,
   "metadata": {},
   "outputs": [
    {
     "name": "stdout",
     "output_type": "stream",
     "text": [
      "200/200 [==============================] - 0s 1ms/sample - loss: 1.3827 - acc: 0.2750\n",
      "200/200 [==============================] - 0s 1ms/sample - loss: 1.3787 - acc: 0.3000\n",
      "200/200 [==============================] - 0s 1ms/sample - loss: 1.0558 - acc: 0.5500\n",
      "200/200 [==============================] - 0s 1ms/sample - loss: 0.8858 - acc: 0.6400\n"
     ]
    }
   ],
   "source": [
    "#Write your code for tuning here\n",
    "\n",
    "rates = [0.0001,0.001,0.005,0.01]\n",
    "for val in rates:\n",
    "    network_new = DefaultModel(name='network_new',num_classes = len(data_manager.classes),optimizer='sgd',batch_size = 128, num_epochs = 20, learning_rate=val, verbose=False)\n",
    "    network_new.build_cnn()\n",
    "    network_new.fit(data_manager, batch_size=64, num_epochs=20)\n",
    "    network_new.compute_accuracy(data_manager.X_test,data_manager.y_test)"
   ]
  },
  {
   "cell_type": "markdown",
   "metadata": {},
   "source": [
    "<span style=\"color:#0b486b\"> *#Your answer and observation here* </span>\n",
    "\n",
    "It was observed that the maximum accuracy was obtained when the learning rate was 0.01. So, it can be concluded that the highest learning rate gave the best accuracy.\n",
    "\n",
    "\n"
   ]
  },
  {
   "cell_type": "markdown",
   "metadata": {},
   "source": [
    "**For question 3.3 to 3.6, you'll need to write your own model in a way that makes it easy for you to experiment with different architectures as well as parameters. The goal is to be able to pass the parameters to initialize a new instance of `YourModel` to build different network architectures with different parameters. Below are descriptions of some parameters for `YourModel`, which you can find in function `__init__()` for the class `DefaultModel`:**"
   ]
  },
  {
   "cell_type": "markdown",
   "metadata": {},
   "source": [
    "1. `num_blocks`: an integer specifying the number of blocks in our network. Each block has the pattern `[conv, batch norm, activation, conv, batch norm, activation, mean pool, dropout]`. All convolutional layers have filter size $(3, 3)$, strides $(1, 1)$ and 'SAME' padding, and all mean pool layers have strides $(2, 2)$ and 'SAME' padding. The network will consists of a few blocks before applying a linear layer to output the logits for the softmax layer.\n",
    "\n",
    "2. `feature_maps`: the number of feature maps in the first block of the network. The number of feature_maps will double in each of the following block. To make it convenient for you, we already calculated the number of feature maps for each block for you in line $106$\n",
    "3. `drop_rate`: the keep probability for dropout. Setting `drop_rate` to $0.0$ means not using dropout. \n",
    "4. `batch_norm`: the batch normalization function is used or not. Setting `batch_norm` to `None` means not using batch normalization. "
   ]
  },
  {
   "cell_type": "code",
   "execution_count": 34,
   "metadata": {},
   "outputs": [],
   "source": [
    "import tensorflow as tf\n",
    "from tensorflow import keras\n",
    "from tensorflow.keras import layers, models"
   ]
  },
  {
   "cell_type": "markdown",
   "metadata": {},
   "source": [
    "<span style=\"color:red\">**Question 3.3.**</span> **Write the code of the `YourModel` class here. Note that this class will inherit from the `DefaultModel` class. You'll only need to re-write the code for the `build_cnn` method for the `YourModel` class from the cell below which is inherited from the `DefaultModel` class.**"
   ]
  },
  {
   "cell_type": "code",
   "execution_count": 35,
   "metadata": {},
   "outputs": [],
   "source": [
    "import tensorflow as tf\n",
    "from tensorflow import keras\n",
    "from tensorflow.keras import models, layers\n",
    "class YourModel(DefaultModel):\n",
    "    def __init__(self,\n",
    "                 name='network2',\n",
    "                 width=32, height=32, depth=3,\n",
    "                 num_blocks=2,\n",
    "                 feature_maps=32,\n",
    "                 num_classes=4, \n",
    "                 drop_rate=0.2,\n",
    "                 batch_norm = None,\n",
    "                 is_augmentation = False,\n",
    "                 activation_func='relu',\n",
    "                 optimizer='adam',\n",
    "                 batch_size=10,\n",
    "                 num_epochs= 20,\n",
    "                 learning_rate=0.0001,\n",
    "                 verbose= True):\n",
    "        super(YourModel, self).__init__(name, width, height, depth, num_blocks, feature_maps, num_classes, drop_rate, batch_norm, is_augmentation, \n",
    "                                        activation_func, optimizer, batch_size, num_epochs, learning_rate, verbose)\n",
    "        self.model = models.Sequential()\n",
    "        self.feature_maps = [feature_maps * (1 << i) for i in range(num_blocks)]\n",
    "        if optimizer == 'adam':\n",
    "            self.optimizer = keras.optimizers.Adam(learning_rate)\n",
    "        elif optimizer == 'nadam':\n",
    "            self.optimizer = keras.optimizers.Nadam(learning_rate)\n",
    "        elif optimizer == 'adagrad':\n",
    "            self.optimizer = keras.optimizers.Adagrad(learning_rate)\n",
    "        elif optimizer== 'rmsprop':\n",
    "            self.optimizer = keras.optimizers.RMSprop(learning_rate)\n",
    "        elif optimizer == 'adadelta':\n",
    "            self.optimizer = keras.optimizers.Adadelta(learning_rate)\n",
    "        else:\n",
    "            self.optimizer = keras.optimizers.SGD(learning_rate)\n",
    "    \n",
    "    def build_cnn(self):\n",
    "        self.model = models.Sequential()\n",
    "        self.model.add(layers.Conv2D(32, (3,3), strides = (1,1), padding='same', activation=self.activation_func, input_shape=(32,32,3)))\n",
    "        if self.batch_norm == True:\n",
    "            self.model.add(layers.BatchNormalization())\n",
    "        self.model.add(layers.Activation(activation=self.activation_func))\n",
    "        self.model.add(layers.Conv2D(32, (3,3), strides = (1,1), padding='same', activation=self.activation_func))\n",
    "        if self.batch_norm == True:\n",
    "            self.model.add(layers.BatchNormalization())\n",
    "        self.model.add(layers.Activation(activation=self.activation_func))\n",
    "        self.model.add(layers.AveragePooling2D(pool_size=(2, 2), strides=(2,2), padding='same'))\n",
    "        self.model.add(layers.Dropout(rate = self.drop_rate))\n",
    "        self.model.add(layers.Flatten())\n",
    "        self.model.add(layers.Dense(self.num_classes, activation='softmax'))\n",
    "        self.model.compile(optimizer=self.optimizer, loss='sparse_categorical_crossentropy', metrics=['accuracy'])"
   ]
  },
  {
   "cell_type": "markdown",
   "metadata": {},
   "source": [
    "<span style=\"color:red\">**Question 3.4.**</span> **Once writing your own models, you should be able to use it to experiment with dropout or batch normalization. In this question, you'll use your model to finetune the dropout rate. Report the `drop_rate` rates you tried along with the validation accuracy for each rate (recomended range: 0.2 to 0.5). What is\n",
    "the final `drop_rate` rate that you'll use? Did dropout improve performance? Did it help reduce overfitting? Note that in this experiment, you should set `batch_norm` to `None`, meaning that we do not use the batch normalization.**"
   ]
  },
  {
   "cell_type": "markdown",
   "metadata": {},
   "source": [
    "<span style=\"color:#0b486b\"> #*Write your answer and observation here* </span>\n",
    "\n"
   ]
  },
  {
   "cell_type": "code",
   "execution_count": 36,
   "metadata": {},
   "outputs": [
    {
     "name": "stdout",
     "output_type": "stream",
     "text": [
      "200/200 [==============================] - 0s 875us/sample - loss: 0.8604 - acc: 0.6450\n",
      "200/200 [==============================] - 0s 685us/sample - loss: 0.8739 - acc: 0.6450\n",
      "200/200 [==============================] - 0s 660us/sample - loss: 0.8706 - acc: 0.6300\n",
      "200/200 [==============================] - 0s 670us/sample - loss: 0.8699 - acc: 0.6150\n"
     ]
    }
   ],
   "source": [
    "rates = [0.2,0.3,0.4,0.5]\n",
    "for val in rates:\n",
    "    network_2 = YourModel(name='network_2',num_classes = len(data_manager.classes),optimizer='sgd',batch_size = 128, num_epochs = 20, learning_rate=0.01, drop_rate=val, batch_norm=None, verbose = False)\n",
    "    network_2.build_cnn()\n",
    "    network_2.fit(data_manager, batch_size=64, num_epochs=20)\n",
    "    network_2.compute_accuracy(data_manager.X_test,data_manager.y_test)"
   ]
  },
  {
   "cell_type": "markdown",
   "metadata": {},
   "source": [
    "From the values above, one can observe that the highest accuracy has been recorded when drop rate is 0.3. Therefore, it can be said that dropout improves the performance in this case by helping in reducing overfitting."
   ]
  },
  {
   "cell_type": "code",
   "execution_count": 37,
   "metadata": {},
   "outputs": [
    {
     "name": "stdout",
     "output_type": "stream",
     "text": [
      "Model: \"sequential_26\"\n",
      "_________________________________________________________________\n",
      "Layer (type)                 Output Shape              Param #   \n",
      "=================================================================\n",
      "conv2d_32 (Conv2D)           (None, 32, 32, 32)        896       \n",
      "_________________________________________________________________\n",
      "activation_8 (Activation)    (None, 32, 32, 32)        0         \n",
      "_________________________________________________________________\n",
      "conv2d_33 (Conv2D)           (None, 32, 32, 32)        9248      \n",
      "_________________________________________________________________\n",
      "activation_9 (Activation)    (None, 32, 32, 32)        0         \n",
      "_________________________________________________________________\n",
      "average_pooling2d_16 (Averag (None, 16, 16, 32)        0         \n",
      "_________________________________________________________________\n",
      "dropout_4 (Dropout)          (None, 16, 16, 32)        0         \n",
      "_________________________________________________________________\n",
      "flatten_10 (Flatten)         (None, 8192)              0         \n",
      "_________________________________________________________________\n",
      "dense_10 (Dense)             (None, 4)                 32772     \n",
      "=================================================================\n",
      "Total params: 42,916\n",
      "Trainable params: 42,916\n",
      "Non-trainable params: 0\n",
      "_________________________________________________________________\n",
      "None\n"
     ]
    }
   ],
   "source": [
    "drop_out_network = YourModel(name='network1',\n",
    "                     feature_maps=32,\n",
    "                     num_classes=len(data_manager.classes),\n",
    "                     num_blocks=4,\n",
    "                     drop_rate= 0.5,\n",
    "                     batch_norm=None,     \n",
    "                     optimizer='adam',\n",
    "                     learning_rate= 0.001)\n",
    "drop_out_network.build_cnn()\n",
    "drop_out_network.summary()"
   ]
  },
  {
   "cell_type": "markdown",
   "metadata": {},
   "source": [
    "<span style=\"color:red\">**Question 3.5.**</span> **Now, let's try using batch normalization. What is the validation and test result? Does it improve the model? How does it compare to the model using dropout? To have a fair comparison, in this experiment, we set `drop_rate=0` to not use the dropout.**"
   ]
  },
  {
   "cell_type": "code",
   "execution_count": 38,
   "metadata": {
    "scrolled": true
   },
   "outputs": [
    {
     "name": "stdout",
     "output_type": "stream",
     "text": [
      "Model: \"sequential_29\"\n",
      "_________________________________________________________________\n",
      "Layer (type)                 Output Shape              Param #   \n",
      "=================================================================\n",
      "conv2d_34 (Conv2D)           (None, 32, 32, 32)        896       \n",
      "_________________________________________________________________\n",
      "batch_normalization (BatchNo (None, 32, 32, 32)        128       \n",
      "_________________________________________________________________\n",
      "activation_10 (Activation)   (None, 32, 32, 32)        0         \n",
      "_________________________________________________________________\n",
      "conv2d_35 (Conv2D)           (None, 32, 32, 32)        9248      \n",
      "_________________________________________________________________\n",
      "batch_normalization_1 (Batch (None, 32, 32, 32)        128       \n",
      "_________________________________________________________________\n",
      "activation_11 (Activation)   (None, 32, 32, 32)        0         \n",
      "_________________________________________________________________\n",
      "average_pooling2d_17 (Averag (None, 16, 16, 32)        0         \n",
      "_________________________________________________________________\n",
      "dropout_5 (Dropout)          (None, 16, 16, 32)        0         \n",
      "_________________________________________________________________\n",
      "flatten_11 (Flatten)         (None, 8192)              0         \n",
      "_________________________________________________________________\n",
      "dense_11 (Dense)             (None, 4)                 32772     \n",
      "=================================================================\n",
      "Total params: 43,172\n",
      "Trainable params: 43,044\n",
      "Non-trainable params: 128\n",
      "_________________________________________________________________\n",
      "None\n"
     ]
    }
   ],
   "source": [
    "batch_norm_network = YourModel(name='network4',\n",
    "                     feature_maps=32,\n",
    "                     num_classes=len(data_manager.classes),\n",
    "                     num_blocks=4,\n",
    "                     drop_rate= 0, \n",
    "                     batch_norm=True, #do batch norm    \n",
    "                     optimizer='adam',\n",
    "                     learning_rate= 0.001)\n",
    "batch_norm_network.build_cnn()\n",
    "batch_norm_network.summary()"
   ]
  },
  {
   "cell_type": "code",
   "execution_count": 39,
   "metadata": {},
   "outputs": [
    {
     "name": "stdout",
     "output_type": "stream",
     "text": [
      "200/200 [==============================] - 0s 2ms/sample - loss: 1.4106 - acc: 0.2200\n",
      "200/200 [==============================] - 0s 2ms/sample - loss: 1.3975 - acc: 0.2900\n"
     ]
    },
    {
     "data": {
      "text/plain": [
       "0.29"
      ]
     },
     "execution_count": 39,
     "metadata": {},
     "output_type": "execute_result"
    }
   ],
   "source": [
    "drop_out_network.compute_accuracy(data_manager.X_test,data_manager.y_test)\n",
    "batch_norm_network.compute_accuracy(data_manager.X_test,data_manager.y_test)"
   ]
  },
  {
   "cell_type": "markdown",
   "metadata": {},
   "source": [
    "From the values above, it is evident that using batch normalization improves the model and test result as the model which used batch normalisation showed more accuracy and less loss compared to the model with dropout and without batch normalisation."
   ]
  },
  {
   "cell_type": "markdown",
   "metadata": {},
   "source": [
    "<span style=\"color:red\">**Question 3.6.**</span> **Finally, you should try to train the best model by trying different configurations for `num_blocks`, `feature_maps`, `optimizer`, `learning_rate`, `batch_size`, `keep_prob` and `batch_norm`. Briefly report the experiments that you try and your observation in the answer below. Also, run the cells below with the best configuration you found.**"
   ]
  },
  {
   "cell_type": "markdown",
   "metadata": {},
   "source": [
    "<span style=\"color:#0b486b\"> #*Write your answer and discussion here* </span>\n",
    "\n",
    "......"
   ]
  },
  {
   "cell_type": "code",
   "execution_count": 40,
   "metadata": {},
   "outputs": [
    {
     "name": "stdout",
     "output_type": "stream",
     "text": [
      "200/200 [==============================] - 0s 680us/sample - loss: 0.9351 - acc: 0.5700\n",
      "200/200 [==============================] - 0s 655us/sample - loss: 0.8464 - acc: 0.6400\n",
      "200/200 [==============================] - 0s 930us/sample - loss: 1.1592 - acc: 0.7050\n",
      "200/200 [==============================] - 0s 715us/sample - loss: 0.8671 - acc: 0.6300\n",
      "WARNING:tensorflow:From C:\\Users\\deepa\\Anaconda3\\lib\\site-packages\\tensorflow_core\\python\\keras\\optimizer_v2\\adagrad.py:103: calling Constant.__init__ (from tensorflow.python.ops.init_ops) with dtype is deprecated and will be removed in a future version.\n",
      "Instructions for updating:\n",
      "Call initializer instance with the dtype argument instead of passing it to the constructor\n",
      "200/200 [==============================] - 0s 695us/sample - loss: 0.8392 - acc: 0.6900\n"
     ]
    },
    {
     "data": {
      "text/plain": [
       "0.69"
      ]
     },
     "execution_count": 40,
     "metadata": {},
     "output_type": "execute_result"
    }
   ],
   "source": [
    "# Code for computing parameters for first variation\n",
    "variation_1 = YourModel(name='variation_1',num_classes = len(data_manager.classes),optimizer='sgd', num_blocks= 4,\n",
    "                          batch_size = 64, feature_maps=64, num_epochs = 20, learning_rate=0.005, drop_rate=0.4, batch_norm=None, \n",
    "                          verbose = False)\n",
    "variation_1.build_cnn()\n",
    "variation_1.fit(data_manager, batch_size=64, num_epochs=20)\n",
    "variation_1.compute_accuracy(data_manager.X_test,data_manager.y_test)\n",
    "# Code for computing parameters for second variation\n",
    "variation_2 = YourModel(name='variation_2',num_classes = len(data_manager.classes),optimizer='adam', num_blocks= 4,\n",
    "                          batch_size = 128, feature_maps=32, num_epochs = 20, learning_rate=0.01, drop_rate=0.5, batch_norm=None, \n",
    "                          verbose = False)\n",
    "variation_2.build_cnn()\n",
    "variation_2.fit(data_manager, batch_size=64, num_epochs=20)\n",
    "variation_2.compute_accuracy(data_manager.X_test,data_manager.y_test)\n",
    "# Code for computing parameters for third variation\n",
    "variation_3 = YourModel(name='variation_3',num_classes = len(data_manager.classes),optimizer='adam', num_blocks= 4,\n",
    "                          batch_size = 64, feature_maps=64, num_epochs = 20, learning_rate=0.005, drop_rate=0.4, batch_norm=True, \n",
    "                          verbose = False)\n",
    "variation_3.build_cnn()\n",
    "variation_3.fit(data_manager, batch_size=64, num_epochs=20)\n",
    "variation_3.compute_accuracy(data_manager.X_test,data_manager.y_test)\n",
    "# Code for computing parameters for fourth variation\n",
    "variation_4 = YourModel(name='variation_4',num_classes = len(data_manager.classes),optimizer='sgd', num_blocks= 2,\n",
    "                          batch_size = 128, feature_maps=32, num_epochs = 20, learning_rate=0.01, drop_rate=0.5, batch_norm=None, \n",
    "                          verbose = False)\n",
    "variation_4.build_cnn()\n",
    "variation_4.fit(data_manager, batch_size=64, num_epochs=20)\n",
    "variation_4.compute_accuracy(data_manager.X_test,data_manager.y_test)\n",
    "# Code for computing parameters for fifth variation\n",
    "variation_5 = YourModel(name='variation_5',num_classes = len(data_manager.classes),optimizer='adagrad', num_blocks= 4,\n",
    "                          batch_size = 128, feature_maps=32, num_epochs = 20, learning_rate=0.01, drop_rate=0.5, batch_norm=None, \n",
    "                          verbose = False)\n",
    "variation_5.build_cnn()\n",
    "variation_5.fit(data_manager, batch_size=64, num_epochs=20)\n",
    "variation_5.compute_accuracy(data_manager.X_test,data_manager.y_test)"
   ]
  },
  {
   "cell_type": "markdown",
   "metadata": {},
   "source": [
    "It can be seen from the results above that, higher parameter values such as learning rate and learning rate gives more accuracy. Correctly chosen value of drop rate will also help in boosting the performance of the model. Out of the optimizers used, adagrad gives more accuracy followed by adam and sgd. Also, enabling batch normalisation also played a major role in the performance boost of the model."
   ]
  },
  {
   "cell_type": "markdown",
   "metadata": {},
   "source": [
    "--- \n",
    "**<div style=\"text-align: center\"> <span style=\"color:black\">END OF ASSIGNMENT</span> </div>**"
   ]
  }
 ],
 "metadata": {
  "kernelspec": {
   "display_name": "Python 3",
   "language": "python",
   "name": "python3"
  },
  "language_info": {
   "codemirror_mode": {
    "name": "ipython",
    "version": 3
   },
   "file_extension": ".py",
   "mimetype": "text/x-python",
   "name": "python",
   "nbconvert_exporter": "python",
   "pygments_lexer": "ipython3",
   "version": "3.7.4"
  }
 },
 "nbformat": 4,
 "nbformat_minor": 4
}
